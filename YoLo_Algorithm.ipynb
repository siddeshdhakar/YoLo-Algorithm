{
 "cells": [
  {
   "cell_type": "code",
   "execution_count": 69,
   "metadata": {},
   "outputs": [],
   "source": [
    "import argparse\n",
    "import os\n",
    "import cv2\n",
    "import matplotlib.pyplot as plt\n",
    "import tensorflow as tf\n",
    "from tensorflow import keras\n",
    "from tensorflow.keras import backend as K\n",
    "from tensorflow.keras.layers import Input, Lambda, Conv2D\n",
    "from yolo_utils import read_classes, read_anchors, generate_colors, preprocess_image, draw_boxes, scale_boxes\n",
    "from yad2k.models.keras_yolo import yolo_head, yolo_boxes_to_corners, preprocess_true_boxes, yolo_loss, yolo_body\n",
    "import numpy as np"
   ]
  },
  {
   "cell_type": "code",
   "execution_count": 62,
   "metadata": {},
   "outputs": [],
   "source": [
    "def yolo_filter_boxes(box_confidence,boxes,box_class_probs,threshold = 0.6):\n",
    "    \n",
    "    box_scores = box_confidence*box_class_probs\n",
    "    box_classes = K.argmax(box_scores,axis=-1)\n",
    "    box_class_scores = K.max(box_scores,axis=-1,keepdims=False)\n",
    "    \n",
    "    filtering_mask = (box_class_scores>=threshold)\n",
    "    scores = tf.boolean_mask(box_class_scores,filtering_mask)\n",
    "    boxes = tf.boolean_mask(boxes,filtering_mask)\n",
    "    classes = tf.boolean_mask(box_classes,filtering_mask)\n",
    "    \n",
    "    return scores,boxes,classes"
   ]
  },
  {
   "cell_type": "code",
   "execution_count": 65,
   "metadata": {},
   "outputs": [
    {
     "name": "stdout",
     "output_type": "stream",
     "text": [
      "scores[4] = 12.057256\n",
      "boxes[4] = [-5.9719086 -0.7515718 -1.26404    2.2826772]\n",
      "classes[4] = 5\n"
     ]
    }
   ],
   "source": [
    "with tf.Session() as test:\n",
    "    \n",
    "    box_confidence = tf.random_normal([19,19,5,1],mean=1,stddev=4,seed=1)\n",
    "    boxes = tf.random_normal([19,19,5,4],mean=1,stddev=4,seed=1)\n",
    "    box_class_probs = tf.random_normal([19,19,5,80],mean=1,stddev=4,seed=1)\n",
    "    scores, boxes, classes = yolo_filter_boxes(box_confidence, boxes, box_class_probs, threshold = 0.5)\n",
    "    print(\"scores[4] = \" + str(scores[4].eval()))\n",
    "    print(\"boxes[4] = \" + str(boxes[4].eval()))\n",
    "    print(\"classes[4] = \"+str(classes[4].eval()))\n",
    "    \n"
   ]
  },
  {
   "cell_type": "code",
   "execution_count": 72,
   "metadata": {},
   "outputs": [],
   "source": [
    "# Non-Max Suppression\n",
    "# Intersection over Union\n",
    "\n",
    "\n",
    "def iou(box1,box2):\n",
    "    \n",
    "    (box1_x1,box1_y1,box1_x2,box1_y2) = box1\n",
    "    (box2_x1,box2_y1,box2_x2,box2_y2) = box2\n",
    "    \n",
    "    xi1 = np.maximum(box1[0],box2[0])\n",
    "    yi1 = np.maximum(box1[1],box2[1])\n",
    "    xi2 = np.minimum(box1[2],box2[2])\n",
    "    yi2 = np.minimum(box1[3],box2[3])\n",
    "    inter_width = xi2-xi1\n",
    "    inter_height = yi2-yi1\n",
    "    \n",
    "#     case in which they doesn't intersect, then inter_height or inter_width will be 0 and intersection area will return 0\n",
    "\n",
    "    intersection_area = max(inter_width,0)*max(inter_height,0)\n",
    "    \n",
    "#     Union_Area\n",
    "    \n",
    "    box1_area = (box1[2]-box1[0])*(box1[3]-box1[1])\n",
    "    box2_area = (box2[2]-box2[0])*(box2[3]-box2[1])\n",
    "    union_area = box1_area+box2_area-intersection_area\n",
    "    \n",
    "    iou = float(intersection_area)/float(union_area)\n",
    "    \n",
    "    \n",
    "    return iou\n",
    "    \n",
    "    "
   ]
  },
  {
   "cell_type": "code",
   "execution_count": 73,
   "metadata": {},
   "outputs": [
    {
     "name": "stdout",
     "output_type": "stream",
     "text": [
      "0.14285714285714285\n"
     ]
    }
   ],
   "source": [
    "# Test case run\n",
    "box1 = (2,1,4,3)\n",
    "box2 = (1,2,3,4)\n",
    "print(iou(box1,box2))"
   ]
  },
  {
   "cell_type": "code",
   "execution_count": null,
   "metadata": {},
   "outputs": [],
   "source": []
  }
 ],
 "metadata": {
  "kernelspec": {
   "display_name": "Python [conda env:root]",
   "language": "python",
   "name": "conda-root-py"
  },
  "language_info": {
   "codemirror_mode": {
    "name": "ipython",
    "version": 3
   },
   "file_extension": ".py",
   "mimetype": "text/x-python",
   "name": "python",
   "nbconvert_exporter": "python",
   "pygments_lexer": "ipython3",
   "version": "3.7.3"
  }
 },
 "nbformat": 4,
 "nbformat_minor": 2
}
